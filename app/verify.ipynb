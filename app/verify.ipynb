{
 "cells": [
  {
   "cell_type": "code",
   "execution_count": 1,
   "id": "9d8c82ee",
   "metadata": {},
   "outputs": [],
   "source": [
    "# import onnx\n",
    "import onnxruntime\n",
    "import os\n",
    "import numpy as np\n",
    "import pandas as pd\n",
    "\n",
    "# get current working directory\n",
    "current_dir = os.getcwd()"
   ]
  },
  {
   "cell_type": "code",
   "execution_count": 2,
   "id": "0fdb937f",
   "metadata": {},
   "outputs": [
    {
     "name": "stdout",
     "output_type": "stream",
     "text": [
      "Model Inputs:\n",
      "Name: input, Shape: [None, 5], Type: tensor(float)\n",
      "Model Outputs:\n",
      "Name: label, Shape: [None], Type: tensor(int64)\n",
      "Name: probabilities, Shape: [None, 2], Type: tensor(float)\n"
     ]
    }
   ],
   "source": [
    "# import onnx model\n",
    "import onnxruntime\n",
    "#import the onnx model init_model_xgb.onnx\n",
    "onnx_model_path = os.path.join(current_dir, 'init_model_xgb.onnx')\n",
    "onnx_model = onnxruntime.InferenceSession(onnx_model_path)\n",
    "\n",
    "# print the model inputs and outputs\n",
    "print(\"Model Inputs:\")\n",
    "for input in onnx_model.get_inputs():\n",
    "    print(f\"Name: {input.name}, Shape: {input.shape}, Type: {input.type}\")\n",
    "print(\"Model Outputs:\")\n",
    "for output in onnx_model.get_outputs():\n",
    "    print(f\"Name: {output.name}, Shape: {output.shape}, Type: {output.type}\")\n",
    "\n"
   ]
  },
  {
   "cell_type": "code",
   "execution_count": 3,
   "id": "e2632f48",
   "metadata": {},
   "outputs": [
    {
     "name": "stdout",
     "output_type": "stream",
     "text": [
      "Data:\n",
      "            Z0        DZ  DZDT        ECG       MXR       MYR       MZR  \\\n",
      "0  1523.505397 -1.345635  14.0 -42.201127 -0.919434  0.085938  0.408203   \n",
      "1  1526.288696 -1.338959  28.0 -42.200173 -0.918457  0.088379  0.408691   \n",
      "2  1524.417110 -1.332283  27.0 -42.209313 -0.921387  0.083984  0.407715   \n",
      "3  1523.286529 -1.326084  26.0 -42.216545 -0.918945  0.089355  0.408691   \n",
      "4  1523.540206 -1.319885  29.0 -42.211061 -0.916992  0.090332  0.408691   \n",
      "\n",
      "      GyroX     GyroY     GyroZ  \n",
      "0 -1.586914 -0.366211  1.159668  \n",
      "1 -1.586914 -0.305176  1.037598  \n",
      "2 -1.525879 -0.244141  0.976562  \n",
      "3 -1.525879 -0.305176  1.037598  \n",
      "4 -1.525879 -0.305176  1.098633  \n"
     ]
    }
   ],
   "source": [
    "# load the data\n",
    "data_path = os.path.join(current_dir, 'pro_10940.csv')\n",
    "data = pd.read_csv(data_path)\n",
    "# print the data\n",
    "print(\"Data:\")\n",
    "print(data.head())"
   ]
  },
  {
   "cell_type": "code",
   "execution_count": 4,
   "id": "154187e0",
   "metadata": {},
   "outputs": [],
   "source": [
    "SAMPLING_FREQUENCY = 1000;\n",
    "TIME_WINDOW = 6; # in seconds\n",
    "HOP_LENGTH = 512; # in number of samples\n",
    "FRAME_LENGTH = 2048; # in number of samples"
   ]
  },
  {
   "cell_type": "code",
   "execution_count": 5,
   "id": "5242946c",
   "metadata": {},
   "outputs": [],
   "source": [
    "from scipy.signal import butter, filtfilt\n",
    "from scipy.stats import kurtosis, skew, entropy\n",
    "import librosa\n",
    "\n",
    "def butterworth_highpass(data, cutoff_frequency=75, sampling_rate=1000, order=2):\n",
    "    b, a = butter(order, cutoff_frequency, btype='high', fs=sampling_rate, analog=False)\n",
    "    y = filtfilt(b, a, data)\n",
    "    return y\n",
    "\n",
    "\n",
    "# extract the MZR from the data into a numpy array\n",
    "data_interest = data[['MZR']]\n",
    "\n",
    "# calculate the number of windows of size 6000 in data_interest\n",
    "num_windows = int(len(data_interest)/(SAMPLING_FREQUENCY* TIME_WINDOW))\n",
    "\n",
    "# iterate over the windows and calculate the features\n",
    "features = []\n",
    "for i in range(num_windows):\n",
    "    # get the start and end indices of the window\n",
    "    start = i * SAMPLING_FREQUENCY * TIME_WINDOW\n",
    "    end = start + SAMPLING_FREQUENCY * TIME_WINDOW\n",
    "    # get the window\n",
    "    window = data_interest.iloc[start:end].values.flatten()\n",
    "\n",
    "    y = butterworth_highpass(window)\n",
    "    y_demeaned = y - np.mean(y)\n",
    "\n",
    "    rms = np.mean(librosa.feature.rms(y=y, frame_length=2048, hop_length=512))\n",
    "    spectrum = np.fft.rfft(y)\n",
    "    spectral_kurtosis = kurtosis(abs(spectrum))\n",
    "    spectral_skewness = skew(abs(spectrum))\n",
    "    spectral_variance = np.var(abs(spectrum))\n",
    "    spectral_mean = np.sum(abs(spectrum)) / len(spectrum)\n",
    "\n",
    "    val = [spectral_skewness, spectral_variance, spectral_kurtosis,rms,spectral_mean]\n",
    "    features.append(val)"
   ]
  },
  {
   "cell_type": "code",
   "execution_count": 6,
   "id": "e7fb41bc",
   "metadata": {},
   "outputs": [],
   "source": [
    "import numpy as np\n",
    "import onnxruntime as ort\n",
    "\n",
    "# assume 'features' is your input data with shape (batch_size, 5)\n",
    "\n",
    "# load the ONNX model\n",
    "session = ort.InferenceSession('init_model_xgb.onnx')\n",
    "\n",
    "# run the model\n",
    "outputs = session.run(['label', 'probabilities'], {'input': features})\n",
    "\n",
    "# get the outputs\n",
    "label = outputs[0]\n",
    "probabilities = outputs[1]"
   ]
  },
  {
   "cell_type": "code",
   "execution_count": 7,
   "id": "5b99da07",
   "metadata": {},
   "outputs": [
    {
     "name": "stdout",
     "output_type": "stream",
     "text": [
      "[1 1 0 0 0 0 1 1 1 0 1 1 1 1 1 1 0 0 1 1 1 1 1 1 1 1 1 1 1 1 1 1 1 1 0 0 0\n",
      " 0 0 0 0 0 0 0 1 0 0 1 1 1 1 1 1 0 1 0 1 1 1 1 1 1 1 1 1 1 1 1 1 1 1 1 1 1\n",
      " 1 1 1 1 1 1 1 1 1 1 1 1 1 1 0 1 1 1 1 1 1 1 1 1 1 1 1 1 1 1 1 1 1 1 1 1 1\n",
      " 1 1 1 1 1 1 1 1 1 1 1 1 1 1 1 1 1 1 1 1 1 1 1 1 1 1 1 1 1 1 1 1 1 1 1 1 1\n",
      " 1 1 1 1 1 1 1 1 0 1 0 1 0 0 0 0 0 1 0 0 0 0 0 0 0 0 0 0 0 0 0 0 0 0 0 0 0\n",
      " 0 0 0 0 0 1 1 1 1 1 1 1 1 1 1 1 1 1 1 1 1 0 0 0 0 0 0 1 0 1 0 0 0 0 0 0 0\n",
      " 0 0 0 0 0 0 0 0 0 0 0 0 1 1 1 1 1 1 1 1 1 1 1 1 1 1 1 1 1 0 0 1 1 0 0 0 0\n",
      " 0 0 0 0 0 0 0 0 0 0 0 0 0 0 0 1 1 1 1 1 1 1 1 1 1 1 1 1 1 1 1 1 1 0 0 0 1\n",
      " 1 1 1 1 0 0 1 0 0 1 1 1 0 1 0 0 0 0 0 0 0 0 1 0 0 1 1 1 1 1 1 1 0 0 0 0 0\n",
      " 0 0 0 1 1 1 1 1 1 1 0 0 0 0 0 0 0 0 0 1 1 1 1 1 1 1 1 1 1 1 0 0 0 0 0 0 1\n",
      " 1 1 1 1 1 1 1 1 1 0 0 0 1 0 1 1 0 1 1 1 1 1 1 1 1 1 0 1 0 1 0 1 1 1 1 1 1\n",
      " 1 1 1 1 1 1 0 0 0 0 0 0 0 1 0 1 1 1 1 1 1 1 0 0 0 0 0 0 0 1 1 1 1 1 1 1 1\n",
      " 1 0 0 0 0 1 1 0 0 1 1 1 1 1 1 1 1 1 1 1 1 1 1 1 1 1 1 1 1 1 1 1 1 1 1 1 1\n",
      " 1 1 1 1 1 0 0 1 1 1 1 1 1 1 1 1 0 0 0 0 0 0 0 0 0 0 0 0 0 0 0 0 0 0 0 0 1\n",
      " 1 1 1 1 1 1 1 1 1 1 1 1 1 1 1 0 0 1 1 1 1 1 1 1 1 1 1 1 1 1 1 1 1 1 1 1 1\n",
      " 1 1 1 1 1 1 1 1 1 1 1 1 1 1 1 1 1 1 0 1 1 0 0 1 1 1 1 1 1 1 1 1 1 1 1 1 0\n",
      " 0 0 1 1 1 1 1 1 0 1 0 1 1 1 1 1 1 1 1 1 1 0 1 1 0 1 1 1 1 1 0 0 1 1 1 1 1\n",
      " 1 1 1 1 1 1 0 0 1 0 1 1 0 1 1 1 1 0 1 1 1 1 1 1]\n"
     ]
    }
   ],
   "source": [
    "print(label)"
   ]
  },
  {
   "cell_type": "code",
   "execution_count": null,
   "id": "7d95533d",
   "metadata": {},
   "outputs": [],
   "source": []
  }
 ],
 "metadata": {
  "kernelspec": {
   "display_name": ".venv",
   "language": "python",
   "name": "python3"
  },
  "language_info": {
   "codemirror_mode": {
    "name": "ipython",
    "version": 3
   },
   "file_extension": ".py",
   "mimetype": "text/x-python",
   "name": "python",
   "nbconvert_exporter": "python",
   "pygments_lexer": "ipython3",
   "version": "3.11.11"
  }
 },
 "nbformat": 4,
 "nbformat_minor": 5
}
